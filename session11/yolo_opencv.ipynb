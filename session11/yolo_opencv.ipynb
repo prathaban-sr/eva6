{
  "nbformat": 4,
  "nbformat_minor": 0,
  "metadata": {
    "colab": {
      "name": "yolo_opencv.ipynb",
      "provenance": [],
      "authorship_tag": "ABX9TyOSz8p624fNA5LaJPJHYpyc"
    },
    "kernelspec": {
      "name": "python3",
      "display_name": "Python 3"
    },
    "language_info": {
      "name": "python"
    }
  },
  "cells": [
    {
      "cell_type": "code",
      "metadata": {
        "id": "PqVIS6mVHNkp"
      },
      "source": [
        "import cv2\n",
        "import numpy as np"
      ],
      "execution_count": 13,
      "outputs": []
    },
    {
      "cell_type": "code",
      "metadata": {
        "colab": {
          "base_uri": "https://localhost:8080/"
        },
        "id": "AD3BabJrwnPQ",
        "outputId": "91197548-dd45-4ec1-f747-a8734e42ca92"
      },
      "source": [
        "#https://github.com/pjreddie/darknet/tree/f86901f6177dfc6116360a13cc06ab680e0c86b0\n",
        "!wget \"https://pjreddie.com/media/files/yolov3.weights\"\n",
        "#!wget \"https://github.com/pjreddie/darknet/blob/f86901f6177dfc6116360a13cc06ab680e0c86b0/data/dog.jpg\""
      ],
      "execution_count": 34,
      "outputs": [
        {
          "output_type": "stream",
          "text": [
            "--2021-07-31 17:52:06--  https://pjreddie.com/media/files/yolov3.weights\n",
            "Resolving pjreddie.com (pjreddie.com)... 128.208.4.108\n",
            "Connecting to pjreddie.com (pjreddie.com)|128.208.4.108|:443... connected.\n",
            "HTTP request sent, awaiting response... 200 OK\n",
            "Length: 248007048 (237M) [application/octet-stream]\n",
            "Saving to: ‘yolov3.weights.1’\n",
            "\n",
            "yolov3.weights.1    100%[===================>] 236.52M  93.3MB/s    in 2.5s    \n",
            "\n",
            "2021-07-31 17:52:08 (93.3 MB/s) - ‘yolov3.weights.1’ saved [248007048/248007048]\n",
            "\n"
          ],
          "name": "stdout"
        }
      ]
    },
    {
      "cell_type": "code",
      "metadata": {
        "colab": {
          "base_uri": "https://localhost:8080/"
        },
        "id": "H1fMCyxZHUzw",
        "outputId": "98e41871-4874-4ffe-b54b-3016fea807c0"
      },
      "source": [
        "# Load Yolo\n",
        "net = cv2.dnn.readNet(\"yolov3.weights\", \"yolov3.cfg\")\n",
        "classes = []\n",
        "with open(\"coco.names\", \"r\") as f:\n",
        "    classes = [line.strip() for line in f.readlines()]\n",
        "print(classes)    \n",
        "layer_names = net.getLayerNames()\n",
        "#print(layer_names)\n",
        "output_layers = [layer_names[i[0] - 1] for i in net.getUnconnectedOutLayers()]\n",
        "#print(output_layers)\n",
        "colors = np.random.uniform(0, 255, size=(len(classes), 3))\n",
        "#print(colors)"
      ],
      "execution_count": 37,
      "outputs": [
        {
          "output_type": "stream",
          "text": [
            "['person', 'bicycle', 'car', 'motorbike', 'aeroplane', 'bus', 'train', 'truck', 'boat', 'traffic light', 'fire hydrant', 'stop sign', 'parking meter', 'bench', 'bird', 'cat', 'dog', 'horse', 'sheep', 'cow', 'elephant', 'bear', 'zebra', 'giraffe', 'backpack', 'umbrella', 'handbag', 'tie', 'suitcase', 'frisbee', 'skis', 'snowboard', 'sports ball', 'kite', 'baseball bat', 'baseball glove', 'skateboard', 'surfboard', 'tennis racket', 'bottle', 'wine glass', 'cup', 'fork', 'knife', 'spoon', 'bowl', 'banana', 'apple', 'sandwich', 'orange', 'broccoli', 'carrot', 'hot dog', 'pizza', 'donut', 'cake', 'chair', 'sofa', 'pottedplant', 'bed', 'diningtable', 'toilet', 'tvmonitor', 'laptop', 'mouse', 'remote', 'keyboard', 'cell phone', 'microwave', 'oven', 'toaster', 'sink', 'refrigerator', 'book', 'clock', 'vase', 'scissors', 'teddy bear', 'hair drier', 'toothbrush']\n"
          ],
          "name": "stdout"
        }
      ]
    },
    {
      "cell_type": "code",
      "metadata": {
        "id": "Pe3esjHTC3nO"
      },
      "source": [
        "# Loading image\n",
        "img = cv2.imread(\"cycle3.jpeg\")\n",
        "img = cv2.resize(img, None, fx=0.4, fy=0.4)\n",
        "height, width, channels = img.shape"
      ],
      "execution_count": 29,
      "outputs": []
    },
    {
      "cell_type": "code",
      "metadata": {
        "id": "gMtbG1t7DB4P"
      },
      "source": [
        "# Detecting objects\n",
        "blob = cv2.dnn.blobFromImage(img, 0.00392, (416, 416), (0, 0, 0), True, crop=False)\n",
        "net.setInput(blob)\n",
        "outs = net.forward(output_layers)"
      ],
      "execution_count": 30,
      "outputs": []
    },
    {
      "cell_type": "code",
      "metadata": {
        "id": "62M6my8_DEZZ"
      },
      "source": [
        "# Showing informations on the screen\n",
        "class_ids = []\n",
        "confidences = []\n",
        "boxes = []\n",
        "for out in outs:\n",
        "    for detection in out:\n",
        "        scores = detection[5:]\n",
        "        class_id = np.argmax(scores)\n",
        "        confidence = scores[class_id]\n",
        "        if confidence > 0.5:\n",
        "            # Object detected\n",
        "            center_x = int(detection[0] * width)\n",
        "            center_y = int(detection[1] * height)\n",
        "            w = int(detection[2] * width)\n",
        "            h = int(detection[3] * height)\n",
        "            # Rectangle coordinates\n",
        "            x = int(center_x - w / 2)\n",
        "            y = int(center_y - h / 2)\n",
        "            boxes.append([x, y, w, h])\n",
        "            confidences.append(float(confidence))\n",
        "            class_ids.append(class_id)"
      ],
      "execution_count": 31,
      "outputs": []
    },
    {
      "cell_type": "code",
      "metadata": {
        "id": "f58hwMb0DRx5"
      },
      "source": [
        "indexes = cv2.dnn.NMSBoxes(boxes, confidences, 0.5, 0.4)"
      ],
      "execution_count": 32,
      "outputs": []
    },
    {
      "cell_type": "code",
      "metadata": {
        "colab": {
          "base_uri": "https://localhost:8080/",
          "height": 144
        },
        "id": "uT3daBL8DSvP",
        "outputId": "a7302d20-ba5a-46f6-b10d-2f95f61a6a3b"
      },
      "source": [
        "from google.colab.patches import cv2_imshow\n",
        "\n",
        "font = cv2.FONT_HERSHEY_PLAIN\n",
        "for i in range(len(boxes)):\n",
        "    if i in indexes:\n",
        "        x, y, w, h = boxes[i]\n",
        "        label = str(classes[class_ids[i]])\n",
        "        color = colors[i]\n",
        "        cv2.rectangle(img, (x, y), (x + w, y + h), color, 2)\n",
        "        cv2.putText(img, label, (x, y + 30), font, 3, color, 3)\n",
        "cv2_imshow( img)\n",
        "cv2.waitKey(0)\n",
        "cv2.destroyAllWindows()"
      ],
      "execution_count": 33,
      "outputs": [
        {
          "output_type": "display_data",
          "data": {
            "image/png": "[encoded data removed]",
            "text/plain": [
              "<PIL.Image.Image image mode=RGB size=96x128 at 0x7FE2AD0D2ED0>"
            ]
          },
          "metadata": {
            "tags": []
          }
        }
      ]
    }
  ]
}