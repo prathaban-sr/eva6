{
  "nbformat": 4,
  "nbformat_minor": 0,
  "metadata": {
    "colab": {
      "name": "EVA - Session 5_experiment3.ipynb",
      "provenance": [],
      "collapsed_sections": [],
      "include_colab_link": true
    },
    "kernelspec": {
      "name": "python3",
      "display_name": "Python 3"
    },
    "accelerator": "GPU"
  },
  "cells": [
    {
      "cell_type": "markdown",
      "metadata": {
        "id": "view-in-github",
        "colab_type": "text"
      },
      "source": [
        "<a href=\"https://colab.research.google.com/github/prathaban-sr/eva6/blob/main/session5/EVA_Session_5_experiment3.ipynb\" target=\"_parent\"><img src=\"https://colab.research.google.com/assets/colab-badge.svg\" alt=\"Open In Colab\"/></a>"
      ]
    },
    {
      "cell_type": "code",
      "metadata": {
        "id": "0m2JWFliFfKT"
      },
      "source": [
        "from __future__ import print_function\n",
        "import torch\n",
        "import torch.nn as nn\n",
        "import torch.nn.functional as F\n",
        "import torch.optim as optim\n",
        "from torchvision import datasets, transforms"
      ],
      "execution_count": 35,
      "outputs": []
    },
    {
      "cell_type": "code",
      "metadata": {
        "id": "h_Cx9q2QFgM7"
      },
      "source": [
        "class Net(nn.Module):\n",
        "    def __init__(self):\n",
        "        super(Net, self).__init__()\n",
        "        self.conv1 = nn.Conv2d(1, 8, 3) #26 -? OUtput? 3\n",
        "        self.bn1 = nn.BatchNorm2d(8)\n",
        "\n",
        "        self.conv2 = nn.Conv2d(8, 8, 3) #24,,5\n",
        "        self.bn2 = nn.BatchNorm2d(8)\n",
        "        \n",
        "        self.conv3 = nn.Conv2d(8, 12, 3) #22,,5\n",
        "        self.bn3 = nn.BatchNorm2d(12)\n",
        "        self.pool1 = nn.MaxPool2d(2, 2)#11,,10\n",
        "\n",
        "        self.conv4 = nn.Conv2d(12, 12, 3)#9,,12\n",
        "        self.bn4 = nn.BatchNorm2d(12)\n",
        "                \n",
        "        self.conv5 = nn.Conv2d(12, 16, 3)#7,,12\n",
        "        self.bn5 = nn.BatchNorm2d(16)\n",
        "        \n",
        "        self.conv6 = nn.Conv2d(16, 20, 3)#5,,12\n",
        "        self.bn6 = nn.BatchNorm2d(20)\n",
        "        self.pool2 = nn.AvgPool2d(5)#1,,28\n",
        "        \n",
        "        self.fc1 = nn.Linear(20,10)\n",
        "        self.dropout = nn.Dropout(0.05)\n",
        "\n",
        "    def forward(self, x):\n",
        "        x = self.bn1(F.relu(self.conv1(x)))\n",
        "        x = self.dropout(x)\n",
        "        x = self.bn2(F.relu(self.conv2(x)))\n",
        "        x = self.dropout(x)\n",
        "        x = self.pool1(self.bn3(F.relu(self.conv3(x))))\n",
        "        x = self.dropout(x)\n",
        "\n",
        "        x = self.bn4(F.relu(self.conv4(x)))\n",
        "        x = self.dropout(x)\n",
        "        \n",
        "        x = self.bn5(F.relu(self.conv5(x)))\n",
        "        x = self.dropout(x)\n",
        "        x = self.bn6(F.relu(self.conv6(x)))\n",
        "        x = self.pool2(x)\n",
        "        \n",
        "        x = x.view(-1,20)\n",
        "\n",
        "        x = self.fc1(x)\n",
        "        x = x.view(-1, 10)\n",
        "        return F.log_softmax(x)"
      ],
      "execution_count": 36,
      "outputs": []
    },
    {
      "cell_type": "code",
      "metadata": {
        "id": "xdydjYTZFyi3",
        "colab": {
          "base_uri": "https://localhost:8080/"
        },
        "outputId": "1357c9df-bfc3-4150-af50-7f0082f327e6"
      },
      "source": [
        "!pip install torchsummary\n",
        "from torchsummary import summary\n",
        "use_cuda = torch.cuda.is_available()\n",
        "device = torch.device(\"cuda\" if use_cuda else \"cpu\")\n",
        "model = Net().to(device)\n",
        "summary(model, input_size=(1, 28, 28))"
      ],
      "execution_count": 37,
      "outputs": [
        {
          "output_type": "stream",
          "text": [
            "Requirement already satisfied: torchsummary in /usr/local/lib/python3.7/dist-packages (1.5.1)\n",
            "----------------------------------------------------------------\n",
            "        Layer (type)               Output Shape         Param #\n",
            "================================================================\n",
            "            Conv2d-1            [-1, 8, 26, 26]              80\n",
            "       BatchNorm2d-2            [-1, 8, 26, 26]              16\n",
            "           Dropout-3            [-1, 8, 26, 26]               0\n",
            "            Conv2d-4            [-1, 8, 24, 24]             584\n",
            "       BatchNorm2d-5            [-1, 8, 24, 24]              16\n",
            "           Dropout-6            [-1, 8, 24, 24]               0\n",
            "            Conv2d-7           [-1, 12, 22, 22]             876\n",
            "       BatchNorm2d-8           [-1, 12, 22, 22]              24\n",
            "         MaxPool2d-9           [-1, 12, 11, 11]               0\n",
            "          Dropout-10           [-1, 12, 11, 11]               0\n",
            "           Conv2d-11             [-1, 12, 9, 9]           1,308\n",
            "      BatchNorm2d-12             [-1, 12, 9, 9]              24\n",
            "          Dropout-13             [-1, 12, 9, 9]               0\n",
            "           Conv2d-14             [-1, 16, 7, 7]           1,744\n",
            "      BatchNorm2d-15             [-1, 16, 7, 7]              32\n",
            "          Dropout-16             [-1, 16, 7, 7]               0\n",
            "           Conv2d-17             [-1, 20, 5, 5]           2,900\n",
            "      BatchNorm2d-18             [-1, 20, 5, 5]              40\n",
            "        AvgPool2d-19             [-1, 20, 1, 1]               0\n",
            "           Linear-20                   [-1, 10]             210\n",
            "================================================================\n",
            "Total params: 7,854\n",
            "Trainable params: 7,854\n",
            "Non-trainable params: 0\n",
            "----------------------------------------------------------------\n",
            "Input size (MB): 0.00\n",
            "Forward/backward pass size (MB): 0.39\n",
            "Params size (MB): 0.03\n",
            "Estimated Total Size (MB): 0.42\n",
            "----------------------------------------------------------------\n"
          ],
          "name": "stdout"
        },
        {
          "output_type": "stream",
          "text": [
            "/usr/local/lib/python3.7/dist-packages/ipykernel_launcher.py:47: UserWarning: Implicit dimension choice for log_softmax has been deprecated. Change the call to include dim=X as an argument.\n"
          ],
          "name": "stderr"
        }
      ]
    },
    {
      "cell_type": "code",
      "metadata": {
        "colab": {
          "base_uri": "https://localhost:8080/"
        },
        "id": "yAaOuq3l6YBl",
        "outputId": "b701ea6b-6425-4877-a69a-486f9e13adea"
      },
      "source": [
        "SEED = 1\n",
        "\n",
        "# CUDA?\n",
        "cuda = torch.cuda.is_available()\n",
        "print(\"CUDA Available?\", cuda)\n",
        "\n",
        "# For reproducibility\n",
        "torch.manual_seed(SEED)\n",
        "\n",
        "if cuda:\n",
        "    torch.cuda.manual_seed(SEED)\n"
      ],
      "execution_count": 38,
      "outputs": [
        {
          "output_type": "stream",
          "text": [
            "CUDA Available? True\n"
          ],
          "name": "stdout"
        }
      ]
    },
    {
      "cell_type": "code",
      "metadata": {
        "id": "DqTWLaM5GHgH"
      },
      "source": [
        "\n",
        "\n",
        "#torch.manual_seed(1)\n",
        "batch_size = 128\n",
        "\n",
        "kwargs = {'num_workers': 1, 'pin_memory': True} if use_cuda else {}\n",
        "train_loader = torch.utils.data.DataLoader(\n",
        "    datasets.MNIST('../data', train=True, download=True,\n",
        "                    transform=transforms.Compose([\n",
        "                        transforms.RandomRotation((-5.0, 5.0), fill=(1,)),\n",
        "                        transforms.ToTensor(),\n",
        "                        transforms.Normalize((0.1307,), (0.3081,))\n",
        "                    ])),\n",
        "    batch_size=batch_size, shuffle=True, **kwargs)\n",
        "test_loader = torch.utils.data.DataLoader(\n",
        "    datasets.MNIST('../data', train=False, transform=transforms.Compose([\n",
        "                        transforms.ToTensor(),\n",
        "                        transforms.Normalize((0.1307,), (0.3081,))\n",
        "                    ])),\n",
        "    batch_size=batch_size, shuffle=True, **kwargs)\n"
      ],
      "execution_count": 39,
      "outputs": []
    },
    {
      "cell_type": "code",
      "metadata": {
        "id": "4cEB1wTRuNww"
      },
      "source": [
        "from tqdm import tqdm\n",
        "def train(model, device, train_loader, optimizer):\n",
        "    #pbar = tqdm(train_loader)\n",
        "    for epoch in range(15):\n",
        "      model.train()\n",
        "      correct = 0\n",
        "      loss = 0\n",
        "    \n",
        "      for data, target in train_loader:\n",
        "          data, target = data.to(device), target.to(device)\n",
        "          optimizer.zero_grad()\n",
        "          output = model(data)\n",
        "          loss = F.nll_loss(output, target)\n",
        "          loss.backward()\n",
        "          optimizer.step()\n",
        "          pred = output.argmax(dim=1, keepdim=True)  # get the index of the max log-probability\n",
        "          correct += pred.eq(target.view_as(pred)).sum().item()\n",
        "\n",
        "        #pbar.set_description(desc= f'loss={loss.item()} batch_id={batch_idx}')\n",
        "\n",
        "      print('\\nTrain set: Accuracy: {}/{} ({:.1f}%)'.format(\n",
        "        correct, len(train_loader.dataset),\n",
        "          100. * correct / len(train_loader.dataset)))\n",
        "\n",
        "      model.eval()\n",
        "      test_loss = 0\n",
        "      test_correct = 0\n",
        "      with torch.no_grad():\n",
        "          for data, target in test_loader:\n",
        "              data, target = data.to(device), target.to(device)\n",
        "              output = model(data)\n",
        "              test_loss += F.nll_loss(output, target, reduction='sum').item()  # sum up batch loss\n",
        "              pred = output.argmax(dim=1, keepdim=True)  # get the index of the max log-probability\n",
        "              test_correct += pred.eq(target.view_as(pred)).sum().item()\n",
        "\n",
        "      test_loss /= len(test_loader.dataset)\n",
        "\n",
        "      print('\\nTest set: Average loss: {:.1f}, Accuracy: {}/{} ({:.1f}%)\\n'.format(\n",
        "          test_loss, test_correct, len(test_loader.dataset),\n",
        "          100. * test_correct / len(test_loader.dataset)))\n",
        "    \n",
        "def test(model, device, test_loader):\n",
        "    model.eval()\n",
        "    test_loss = 0\n",
        "    correct = 0\n",
        "    with torch.no_grad():\n",
        "        for data, target in test_loader:\n",
        "            data, target = data.to(device), target.to(device)\n",
        "            output = model(data)\n",
        "            test_loss += F.nll_loss(output, target, reduction='sum').item()  # sum up batch loss\n",
        "            pred = output.argmax(dim=1, keepdim=True)  # get the index of the max log-probability\n",
        "            correct += pred.eq(target.view_as(pred)).sum().item()\n",
        "\n",
        "    test_loss /= len(test_loader.dataset)\n",
        "\n",
        "    print('\\nTest set: Average loss: {:.1f}, Accuracy: {}/{} ({:.1f}%)\\n'.format(\n",
        "        test_loss, correct, len(test_loader.dataset),\n",
        "        100. * correct / len(test_loader.dataset)))"
      ],
      "execution_count": 40,
      "outputs": []
    },
    {
      "cell_type": "code",
      "metadata": {
        "id": "MMWbLWO6FuHb",
        "colab": {
          "base_uri": "https://localhost:8080/"
        },
        "outputId": "1b6422c2-a7c0-4eda-dcd8-17293b32d5e9"
      },
      "source": [
        "\n",
        "model = Net().to(device)\n",
        "optimizer = optim.SGD(model.parameters(), lr=0.1, momentum=0.9)\n",
        "\n",
        "train(model, device, train_loader, optimizer)\n",
        "test(model, device, test_loader)"
      ],
      "execution_count": 42,
      "outputs": [
        {
          "output_type": "stream",
          "text": [
            "/usr/local/lib/python3.7/dist-packages/ipykernel_launcher.py:47: UserWarning: Implicit dimension choice for log_softmax has been deprecated. Change the call to include dim=X as an argument.\n"
          ],
          "name": "stderr"
        },
        {
          "output_type": "stream",
          "text": [
            "\n",
            "Train set: Accuracy: 56617/60000 (94.4%)\n",
            "\n",
            "Test set: Average loss: 0.0, Accuracy: 9870/10000 (98.7%)\n",
            "\n",
            "\n",
            "Train set: Accuracy: 58907/60000 (98.2%)\n",
            "\n",
            "Test set: Average loss: 0.0, Accuracy: 9896/10000 (99.0%)\n",
            "\n",
            "\n",
            "Train set: Accuracy: 59129/60000 (98.5%)\n",
            "\n",
            "Test set: Average loss: 0.0, Accuracy: 9900/10000 (99.0%)\n",
            "\n",
            "\n",
            "Train set: Accuracy: 59228/60000 (98.7%)\n",
            "\n",
            "Test set: Average loss: 0.0, Accuracy: 9914/10000 (99.1%)\n",
            "\n",
            "\n",
            "Train set: Accuracy: 59307/60000 (98.8%)\n",
            "\n",
            "Test set: Average loss: 0.0, Accuracy: 9925/10000 (99.2%)\n",
            "\n",
            "\n",
            "Train set: Accuracy: 59362/60000 (98.9%)\n",
            "\n",
            "Test set: Average loss: 0.0, Accuracy: 9930/10000 (99.3%)\n",
            "\n",
            "\n",
            "Train set: Accuracy: 59386/60000 (99.0%)\n",
            "\n",
            "Test set: Average loss: 0.0, Accuracy: 9932/10000 (99.3%)\n",
            "\n",
            "\n",
            "Train set: Accuracy: 59414/60000 (99.0%)\n",
            "\n",
            "Test set: Average loss: 0.0, Accuracy: 9934/10000 (99.3%)\n",
            "\n",
            "\n",
            "Train set: Accuracy: 59463/60000 (99.1%)\n",
            "\n",
            "Test set: Average loss: 0.0, Accuracy: 9929/10000 (99.3%)\n",
            "\n",
            "\n",
            "Train set: Accuracy: 59485/60000 (99.1%)\n",
            "\n",
            "Test set: Average loss: 0.0, Accuracy: 9938/10000 (99.4%)\n",
            "\n",
            "\n",
            "Train set: Accuracy: 59488/60000 (99.1%)\n",
            "\n",
            "Test set: Average loss: 0.0, Accuracy: 9936/10000 (99.4%)\n",
            "\n",
            "\n",
            "Train set: Accuracy: 59497/60000 (99.2%)\n",
            "\n",
            "Test set: Average loss: 0.0, Accuracy: 9931/10000 (99.3%)\n",
            "\n",
            "\n",
            "Train set: Accuracy: 59504/60000 (99.2%)\n",
            "\n",
            "Test set: Average loss: 0.0, Accuracy: 9938/10000 (99.4%)\n",
            "\n",
            "\n",
            "Train set: Accuracy: 59519/60000 (99.2%)\n",
            "\n",
            "Test set: Average loss: 0.0, Accuracy: 9931/10000 (99.3%)\n",
            "\n",
            "\n",
            "Train set: Accuracy: 59542/60000 (99.2%)\n",
            "\n",
            "Test set: Average loss: 0.0, Accuracy: 9942/10000 (99.4%)\n",
            "\n",
            "\n",
            "Test set: Average loss: 0.0, Accuracy: 9942/10000 (99.4%)\n",
            "\n"
          ],
          "name": "stdout"
        }
      ]
    },
    {
      "cell_type": "code",
      "metadata": {
        "id": "So5uk4EkHW6R"
      },
      "source": [
        ""
      ],
      "execution_count": 41,
      "outputs": []
    }
  ]
}