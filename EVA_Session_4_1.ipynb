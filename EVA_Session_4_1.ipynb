{
  "nbformat": 4,
  "nbformat_minor": 0,
  "metadata": {
    "colab": {
      "name": "EVA - Session 4.ipynb",
      "provenance": [],
      "collapsed_sections": [],
      "include_colab_link": true
    },
    "kernelspec": {
      "name": "python3",
      "display_name": "Python 3"
    },
    "accelerator": "GPU"
  },
  "cells": [
    {
      "cell_type": "markdown",
      "metadata": {
        "id": "view-in-github",
        "colab_type": "text"
      },
      "source": [
        "<a href=\"https://colab.research.google.com/github/prathaban-sr/eva6/blob/main/EVA_Session_4_1.ipynb\" target=\"_parent\"><img src=\"https://colab.research.google.com/assets/colab-badge.svg\" alt=\"Open In Colab\"/></a>"
      ]
    },
    {
      "cell_type": "code",
      "metadata": {
        "id": "0m2JWFliFfKT"
      },
      "source": [
        "from __future__ import print_function\n",
        "import torch\n",
        "import torch.nn as nn\n",
        "import torch.nn.functional as F\n",
        "import torch.optim as optim\n",
        "from torchvision import datasets, transforms"
      ],
      "execution_count": 140,
      "outputs": []
    },
    {
      "cell_type": "code",
      "metadata": {
        "id": "h_Cx9q2QFgM7"
      },
      "source": [
        "class Net(nn.Module):\n",
        "    def __init__(self):\n",
        "        super(Net, self).__init__()\n",
        "        self.conv1 = nn.Conv2d(1, 24, 3) #26 -? OUtput? 3\n",
        "        self.bn1 = nn.BatchNorm2d(24)    \n",
        "        self.conv2 = nn.Conv2d(24, 32, 3) #24,,5\n",
        "        self.pool1 = nn.MaxPool2d(2, 2)#12,,10\n",
        "        self.bn2 = nn.BatchNorm2d(32)\n",
        "        self.conv3 = nn.Conv2d(32, 42, 3)#10,,12\n",
        "        self.bn3 = nn.BatchNorm2d(42)\n",
        "        self.pool2 = nn.AvgPool2d(10, 10)#1,,28\n",
        "        self.fc1 = nn.Linear(42,10)\n",
        "        self.dropout = nn.Dropout(0.05)\n",
        "\n",
        "    def forward(self, x):\n",
        "        x = self.bn1(F.relu(self.conv1(x)))\n",
        "        x = self.dropout(x)\n",
        "        \n",
        "        x = self.bn2(F.relu(self.conv2(x)))\n",
        "        x = self.pool1(x)\n",
        "        x = self.dropout(x)\n",
        "\n",
        "        x = F.relu(self.conv3(x))\n",
        "        x = self.bn3(x)\n",
        "        x = self.pool2(x)\n",
        "        x = self.dropout(x)\n",
        "        x = x.view(-1,42)\n",
        "\n",
        "        x = self.fc1(x)\n",
        "        x = x.view(-1, 10)\n",
        "        return F.log_softmax(x)"
      ],
      "execution_count": 141,
      "outputs": []
    },
    {
      "cell_type": "code",
      "metadata": {
        "id": "xdydjYTZFyi3",
        "colab": {
          "base_uri": "https://localhost:8080/"
        },
        "outputId": "9227672d-bc9e-4bee-a754-a6c8b62c5732"
      },
      "source": [
        "!pip install torchsummary\n",
        "from torchsummary import summary\n",
        "use_cuda = torch.cuda.is_available()\n",
        "device = torch.device(\"cuda\" if use_cuda else \"cpu\")\n",
        "model = Net().to(device)\n",
        "summary(model, input_size=(1, 28, 28))"
      ],
      "execution_count": 142,
      "outputs": [
        {
          "output_type": "stream",
          "text": [
            "Requirement already satisfied: torchsummary in /usr/local/lib/python3.7/dist-packages (1.5.1)\n",
            "----------------------------------------------------------------\n",
            "        Layer (type)               Output Shape         Param #\n",
            "================================================================\n",
            "            Conv2d-1           [-1, 24, 26, 26]             240\n",
            "       BatchNorm2d-2           [-1, 24, 26, 26]              48\n",
            "           Dropout-3           [-1, 24, 26, 26]               0\n",
            "            Conv2d-4           [-1, 32, 24, 24]           6,944\n",
            "       BatchNorm2d-5           [-1, 32, 24, 24]              64\n",
            "         MaxPool2d-6           [-1, 32, 12, 12]               0\n",
            "           Dropout-7           [-1, 32, 12, 12]               0\n",
            "            Conv2d-8           [-1, 42, 10, 10]          12,138\n",
            "       BatchNorm2d-9           [-1, 42, 10, 10]              84\n",
            "        AvgPool2d-10             [-1, 42, 1, 1]               0\n",
            "          Dropout-11             [-1, 42, 1, 1]               0\n",
            "           Linear-12                   [-1, 10]             430\n",
            "================================================================\n",
            "Total params: 19,948\n",
            "Trainable params: 19,948\n",
            "Non-trainable params: 0\n",
            "----------------------------------------------------------------\n",
            "Input size (MB): 0.00\n",
            "Forward/backward pass size (MB): 0.79\n",
            "Params size (MB): 0.08\n",
            "Estimated Total Size (MB): 0.87\n",
            "----------------------------------------------------------------\n"
          ],
          "name": "stdout"
        },
        {
          "output_type": "stream",
          "text": [
            "/usr/local/lib/python3.7/dist-packages/ipykernel_launcher.py:31: UserWarning: Implicit dimension choice for log_softmax has been deprecated. Change the call to include dim=X as an argument.\n"
          ],
          "name": "stderr"
        }
      ]
    },
    {
      "cell_type": "code",
      "metadata": {
        "id": "DqTWLaM5GHgH"
      },
      "source": [
        "\n",
        "\n",
        "torch.manual_seed(1)\n",
        "batch_size = 128\n",
        "\n",
        "kwargs = {'num_workers': 1, 'pin_memory': True} if use_cuda else {}\n",
        "train_loader = torch.utils.data.DataLoader(\n",
        "    datasets.MNIST('../data', train=True, download=True,\n",
        "                    transform=transforms.Compose([\n",
        "                        transforms.ToTensor(),\n",
        "                        transforms.Normalize((0.1307,), (0.3081,))\n",
        "                    ])),\n",
        "    batch_size=batch_size, shuffle=True, **kwargs)\n",
        "test_loader = torch.utils.data.DataLoader(\n",
        "    datasets.MNIST('../data', train=False, transform=transforms.Compose([\n",
        "                        transforms.ToTensor(),\n",
        "                        transforms.Normalize((0.1307,), (0.3081,))\n",
        "                    ])),\n",
        "    batch_size=batch_size, shuffle=True, **kwargs)\n"
      ],
      "execution_count": 143,
      "outputs": []
    },
    {
      "cell_type": "code",
      "metadata": {
        "id": "8fDefDhaFlwH"
      },
      "source": [
        "#from tqdm import tqdm\n",
        "# def train(model, device, train_loader, optimizer):\n",
        "#     model.train()\n",
        "#     #pbar = tqdm(train_loader)\n",
        "#     for epoch in range(19):\n",
        "#       correct = 0\n",
        "#       loss = 0\n",
        "    \n",
        "#       for data, target in train_loader:\n",
        "#           data, target = data.to(device), target.to(device)\n",
        "#           optimizer.zero_grad()\n",
        "#           output = model(data)\n",
        "#           loss = F.nll_loss(output, target)\n",
        "#           loss.backward()\n",
        "#           optimizer.step()\n",
        "#           pred = output.argmax(dim=1, keepdim=True)  # get the index of the max log-probability\n",
        "#           correct += pred.eq(target.view_as(pred)).sum().item()\n",
        "\n",
        "#         #pbar.set_description(desc= f'loss={loss.item()} batch_id={batch_idx}')\n",
        "\n",
        "#       #loss /= len(train_loader.dataset)\n",
        "\n",
        "#       print('\\nTrain set: Accuracy: {}/{} ({:.4f}%)'.format(\n",
        "#         correct, len(train_loader.dataset),\n",
        "#           100. * correct / len(train_loader.dataset)))\n",
        "\n",
        "# def test(model, device, test_loader):\n",
        "#     model.eval()\n",
        "#     test_loss = 0\n",
        "#     correct = 0\n",
        "#     with torch.no_grad():\n",
        "#         for data, target in test_loader:\n",
        "#             data, target = data.to(device), target.to(device)\n",
        "#             output = model(data)\n",
        "#             test_loss += F.nll_loss(output, target, reduction='sum').item()  # sum up batch loss\n",
        "#             pred = output.argmax(dim=1, keepdim=True)  # get the index of the max log-probability\n",
        "#             correct += pred.eq(target.view_as(pred)).sum().item()\n",
        "\n",
        "#     test_loss /= len(test_loader.dataset)\n",
        "\n",
        "#     print('\\nTest set: Average loss: {:.4f}, Accuracy: {}/{} ({:.4f}%)\\n'.format(\n",
        "#         test_loss, correct, len(test_loader.dataset),\n",
        "#         100. * correct / len(test_loader.dataset)))"
      ],
      "execution_count": 144,
      "outputs": []
    },
    {
      "cell_type": "code",
      "metadata": {
        "id": "4cEB1wTRuNww"
      },
      "source": [
        "#every epoch tracking\n",
        "from tqdm import tqdm\n",
        "def train(model, device, train_loader, optimizer):\n",
        "    #pbar = tqdm(train_loader)\n",
        "    for epoch in range(19):\n",
        "      model.train()\n",
        "      correct = 0\n",
        "      loss = 0\n",
        "    \n",
        "      for data, target in train_loader:\n",
        "          data, target = data.to(device), target.to(device)\n",
        "          optimizer.zero_grad()\n",
        "          output = model(data)\n",
        "          loss = F.nll_loss(output, target)\n",
        "          loss.backward()\n",
        "          optimizer.step()\n",
        "          pred = output.argmax(dim=1, keepdim=True)  # get the index of the max log-probability\n",
        "          correct += pred.eq(target.view_as(pred)).sum().item()\n",
        "\n",
        "        #pbar.set_description(desc= f'loss={loss.item()} batch_id={batch_idx}')\n",
        "\n",
        "      print('\\nTrain set: Accuracy: {}/{} ({:.4f}%)'.format(\n",
        "        correct, len(train_loader.dataset),\n",
        "          100. * correct / len(train_loader.dataset)))\n",
        "\n",
        "      model.eval()\n",
        "      test_loss = 0\n",
        "      test_correct = 0\n",
        "      with torch.no_grad():\n",
        "          for data, target in test_loader:\n",
        "              data, target = data.to(device), target.to(device)\n",
        "              output = model(data)\n",
        "              test_loss += F.nll_loss(output, target, reduction='sum').item()  # sum up batch loss\n",
        "              pred = output.argmax(dim=1, keepdim=True)  # get the index of the max log-probability\n",
        "              test_correct += pred.eq(target.view_as(pred)).sum().item()\n",
        "\n",
        "      test_loss /= len(test_loader.dataset)\n",
        "\n",
        "      print('\\nTest set: Average loss: {:.4f}, Accuracy: {}/{} ({:.4f}%)\\n'.format(\n",
        "          test_loss, test_correct, len(test_loader.dataset),\n",
        "          100. * test_correct / len(test_loader.dataset)))\n",
        "    \n",
        "def test(model, device, test_loader):\n",
        "    model.eval()\n",
        "    test_loss = 0\n",
        "    correct = 0\n",
        "    with torch.no_grad():\n",
        "        for data, target in test_loader:\n",
        "            data, target = data.to(device), target.to(device)\n",
        "            output = model(data)\n",
        "            test_loss += F.nll_loss(output, target, reduction='sum').item()  # sum up batch loss\n",
        "            pred = output.argmax(dim=1, keepdim=True)  # get the index of the max log-probability\n",
        "            correct += pred.eq(target.view_as(pred)).sum().item()\n",
        "\n",
        "    test_loss /= len(test_loader.dataset)\n",
        "\n",
        "    print('\\nTest set: Average loss: {:.4f}, Accuracy: {}/{} ({:.4f}%)\\n'.format(\n",
        "        test_loss, correct, len(test_loader.dataset),\n",
        "        100. * correct / len(test_loader.dataset)))"
      ],
      "execution_count": 145,
      "outputs": []
    },
    {
      "cell_type": "code",
      "metadata": {
        "id": "MMWbLWO6FuHb",
        "colab": {
          "base_uri": "https://localhost:8080/"
        },
        "outputId": "7fd51b65-5211-4f98-d4cb-27432cf5ae4f"
      },
      "source": [
        "\n",
        "model = Net().to(device)\n",
        "optimizer = optim.SGD(model.parameters(), lr=0.25, momentum=0.9)\n",
        "#optimizer = optim.Adam(model.parameters(), lr=0.25)\n",
        "\n",
        "#for epoch in range(1, 2):\n",
        "train(model, device, train_loader, optimizer)\n",
        "test(model, device, test_loader)"
      ],
      "execution_count": 146,
      "outputs": [
        {
          "output_type": "stream",
          "text": [
            "/usr/local/lib/python3.7/dist-packages/ipykernel_launcher.py:31: UserWarning: Implicit dimension choice for log_softmax has been deprecated. Change the call to include dim=X as an argument.\n"
          ],
          "name": "stderr"
        },
        {
          "output_type": "stream",
          "text": [
            "\n",
            "Train set: Accuracy: 55620/60000 (92.7000%)\n",
            "\n",
            "Test set: Average loss: 0.0825, Accuracy: 9758/10000 (97.5800%)\n",
            "\n",
            "\n",
            "Train set: Accuracy: 58610/60000 (97.6833%)\n",
            "\n",
            "Test set: Average loss: 0.0655, Accuracy: 9810/10000 (98.1000%)\n",
            "\n",
            "\n",
            "Train set: Accuracy: 58903/60000 (98.1717%)\n",
            "\n",
            "Test set: Average loss: 0.0512, Accuracy: 9833/10000 (98.3300%)\n",
            "\n",
            "\n",
            "Train set: Accuracy: 59029/60000 (98.3817%)\n",
            "\n",
            "Test set: Average loss: 0.0457, Accuracy: 9850/10000 (98.5000%)\n",
            "\n",
            "\n",
            "Train set: Accuracy: 59138/60000 (98.5633%)\n",
            "\n",
            "Test set: Average loss: 0.0435, Accuracy: 9871/10000 (98.7100%)\n",
            "\n",
            "\n",
            "Train set: Accuracy: 59236/60000 (98.7267%)\n",
            "\n",
            "Test set: Average loss: 0.0422, Accuracy: 9872/10000 (98.7200%)\n",
            "\n",
            "\n",
            "Train set: Accuracy: 59256/60000 (98.7600%)\n",
            "\n",
            "Test set: Average loss: 0.0374, Accuracy: 9883/10000 (98.8300%)\n",
            "\n",
            "\n",
            "Train set: Accuracy: 59347/60000 (98.9117%)\n",
            "\n",
            "Test set: Average loss: 0.0363, Accuracy: 9875/10000 (98.7500%)\n",
            "\n",
            "\n",
            "Train set: Accuracy: 59344/60000 (98.9067%)\n",
            "\n",
            "Test set: Average loss: 0.0392, Accuracy: 9875/10000 (98.7500%)\n",
            "\n",
            "\n",
            "Train set: Accuracy: 59408/60000 (99.0133%)\n",
            "\n",
            "Test set: Average loss: 0.0347, Accuracy: 9881/10000 (98.8100%)\n",
            "\n",
            "\n",
            "Train set: Accuracy: 59430/60000 (99.0500%)\n",
            "\n",
            "Test set: Average loss: 0.0336, Accuracy: 9886/10000 (98.8600%)\n",
            "\n",
            "\n",
            "Train set: Accuracy: 59456/60000 (99.0933%)\n",
            "\n",
            "Test set: Average loss: 0.0320, Accuracy: 9895/10000 (98.9500%)\n",
            "\n",
            "\n",
            "Train set: Accuracy: 59443/60000 (99.0717%)\n",
            "\n",
            "Test set: Average loss: 0.0326, Accuracy: 9882/10000 (98.8200%)\n",
            "\n",
            "\n",
            "Train set: Accuracy: 59527/60000 (99.2117%)\n",
            "\n",
            "Test set: Average loss: 0.0406, Accuracy: 9876/10000 (98.7600%)\n",
            "\n",
            "\n",
            "Train set: Accuracy: 59512/60000 (99.1867%)\n",
            "\n",
            "Test set: Average loss: 0.0312, Accuracy: 9890/10000 (98.9000%)\n",
            "\n",
            "\n",
            "Train set: Accuracy: 59504/60000 (99.1733%)\n",
            "\n",
            "Test set: Average loss: 0.0403, Accuracy: 9860/10000 (98.6000%)\n",
            "\n",
            "\n",
            "Train set: Accuracy: 59532/60000 (99.2200%)\n",
            "\n",
            "Test set: Average loss: 0.0292, Accuracy: 9901/10000 (99.0100%)\n",
            "\n",
            "\n",
            "Train set: Accuracy: 59570/60000 (99.2833%)\n",
            "\n",
            "Test set: Average loss: 0.0462, Accuracy: 9872/10000 (98.7200%)\n",
            "\n",
            "\n",
            "Train set: Accuracy: 59555/60000 (99.2583%)\n",
            "\n",
            "Test set: Average loss: 0.0334, Accuracy: 9888/10000 (98.8800%)\n",
            "\n",
            "\n",
            "Test set: Average loss: 0.0334, Accuracy: 9888/10000 (98.8800%)\n",
            "\n"
          ],
          "name": "stdout"
        }
      ]
    },
    {
      "cell_type": "code",
      "metadata": {
        "id": "So5uk4EkHW6R"
      },
      "source": [
        ""
      ],
      "execution_count": 146,
      "outputs": []
    }
  ]
}